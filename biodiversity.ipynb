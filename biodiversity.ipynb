{
 "cells":[
  {
   "cell_type":"markdown",
   "source":[
    "# Exploration of the Biodiversity in National Parks"
   ],
   "attachments":{
    
   },
   "metadata":{
    "datalore":{
     "node_id":"m1kInyjL8579cOJ3IaMGWY",
     "type":"MD",
     "hide_input_from_viewers":true,
     "hide_output_from_viewers":true
    }
   }
  },
  {
   "cell_type":"markdown",
   "source":[
    "## Project Scope\n",
    "### Goals\n",
    "- Understand what features contribute to the label of endangered.\n",
    "- Discover the most biodiverse parks.\n",
    "- Uncover if park biodiversity leads to having more species labeled as \"recovering\"."
   ],
   "attachments":{
    
   },
   "metadata":{
    "datalore":{
     "node_id":"tDL7gnQf5zRixM860zNcjn",
     "type":"MD",
     "hide_input_from_viewers":true,
     "hide_output_from_viewers":true
    }
   }
  },
  {
   "cell_type":"markdown",
   "source":[
    "## General Exploration"
   ],
   "attachments":{
    
   },
   "metadata":{
    "datalore":{
     "node_id":"8GrsL3lawUA9nk6Uj4SFW0",
     "type":"MD",
     "hide_input_from_viewers":true,
     "hide_output_from_viewers":true
    }
   }
  },
  {
   "cell_type":"code",
   "source":[
    "import matplotlib.pyplot as plt\n",
    "import seaborn as sns\n",
    "import pandas as pd\n",
    "sns.set_style('darkgrid')"
   ],
   "execution_count":1,
   "outputs":[
    
   ],
   "metadata":{
    "datalore":{
     "node_id":"BvF3zA6ibVnbrhSXRVjYLR",
     "type":"CODE",
     "hide_input_from_viewers":true,
     "hide_output_from_viewers":true
    }
   }
  },
  {
   "cell_type":"code",
   "source":[
    "# Import the CSVs\n",
    "observations_df = pd.read_csv(\"observations.csv\")\n",
    "species_df = pd.read_csv(\"species_info.csv\")\n",
    "observations_df.head()\n",
    "species_df.head()\n",
    "\n",
    "# Both share scientific_name"
   ],
   "execution_count":2,
   "outputs":[
    {
     "data":{
      "text\/html":[
       "<div>\n",
       "<style scoped>\n",
       "    .dataframe tbody tr th:only-of-type {\n",
       "        vertical-align: middle;\n",
       "    }\n",
       "\n",
       "    .dataframe tbody tr th {\n",
       "        vertical-align: top;\n",
       "    }\n",
       "\n",
       "    .dataframe thead th {\n",
       "        text-align: right;\n",
       "    }\n",
       "<\/style>\n",
       "<table border=\"1\" class=\"dataframe\">\n",
       "  <thead>\n",
       "    <tr style=\"text-align: right;\">\n",
       "      <th><\/th>\n",
       "      <th>category<\/th>\n",
       "      <th>scientific_name<\/th>\n",
       "      <th>common_names<\/th>\n",
       "      <th>conservation_status<\/th>\n",
       "    <\/tr>\n",
       "  <\/thead>\n",
       "  <tbody>\n",
       "    <tr>\n",
       "      <th>0<\/th>\n",
       "      <td>Mammal<\/td>\n",
       "      <td>Clethrionomys gapperi gapperi<\/td>\n",
       "      <td>Gapper's Red-Backed Vole<\/td>\n",
       "      <td>NaN<\/td>\n",
       "    <\/tr>\n",
       "    <tr>\n",
       "      <th>1<\/th>\n",
       "      <td>Mammal<\/td>\n",
       "      <td>Bos bison<\/td>\n",
       "      <td>American Bison, Bison<\/td>\n",
       "      <td>NaN<\/td>\n",
       "    <\/tr>\n",
       "    <tr>\n",
       "      <th>2<\/th>\n",
       "      <td>Mammal<\/td>\n",
       "      <td>Bos taurus<\/td>\n",
       "      <td>Aurochs, Aurochs, Domestic Cattle (Feral), Dom...<\/td>\n",
       "      <td>NaN<\/td>\n",
       "    <\/tr>\n",
       "    <tr>\n",
       "      <th>3<\/th>\n",
       "      <td>Mammal<\/td>\n",
       "      <td>Ovis aries<\/td>\n",
       "      <td>Domestic Sheep, Mouflon, Red Sheep, Sheep (Feral)<\/td>\n",
       "      <td>NaN<\/td>\n",
       "    <\/tr>\n",
       "    <tr>\n",
       "      <th>4<\/th>\n",
       "      <td>Mammal<\/td>\n",
       "      <td>Cervus elaphus<\/td>\n",
       "      <td>Wapiti Or Elk<\/td>\n",
       "      <td>NaN<\/td>\n",
       "    <\/tr>\n",
       "  <\/tbody>\n",
       "<\/table>\n",
       "<\/div>"
      ]
     },
     "metadata":{
      
     },
     "output_type":"display_data"
    }
   ],
   "metadata":{
    "datalore":{
     "node_id":"fIskVJWcDNMmaHUfnMai3u",
     "type":"CODE",
     "hide_input_from_viewers":true,
     "hide_output_from_viewers":true
    }
   }
  },
  {
   "cell_type":"code",
   "source":[
    "# Merge dataframes on common column \"scientific_name\"\n",
    "merged_df = pd.merge(observations_df, \n",
    "                     species_df, \n",
    "                     on='scientific_name', \n",
    "                     how='outer')\n",
    "merged_df.count()"
   ],
   "execution_count":3,
   "outputs":[
    {
     "data":{
      "text\/html":[
       
      ]
     },
     "metadata":{
      
     },
     "output_type":"display_data"
    }
   ],
   "metadata":{
    "datalore":{
     "node_id":"aT8MhjYJteovs3PtBfnjbU",
     "type":"CODE",
     "hide_input_from_viewers":true,
     "hide_output_from_viewers":true
    }
   }
  },
  {
   "cell_type":"code",
   "source":[
    "merged_df.head()"
   ],
   "execution_count":4,
   "outputs":[
    {
     "data":{
      "text\/html":[
       "<div>\n",
       "<style scoped>\n",
       "    .dataframe tbody tr th:only-of-type {\n",
       "        vertical-align: middle;\n",
       "    }\n",
       "\n",
       "    .dataframe tbody tr th {\n",
       "        vertical-align: top;\n",
       "    }\n",
       "\n",
       "    .dataframe thead th {\n",
       "        text-align: right;\n",
       "    }\n",
       "<\/style>\n",
       "<table border=\"1\" class=\"dataframe\">\n",
       "  <thead>\n",
       "    <tr style=\"text-align: right;\">\n",
       "      <th><\/th>\n",
       "      <th>scientific_name<\/th>\n",
       "      <th>park_name<\/th>\n",
       "      <th>observations<\/th>\n",
       "      <th>category<\/th>\n",
       "      <th>common_names<\/th>\n",
       "      <th>conservation_status<\/th>\n",
       "    <\/tr>\n",
       "  <\/thead>\n",
       "  <tbody>\n",
       "    <tr>\n",
       "      <th>0<\/th>\n",
       "      <td>Vicia benghalensis<\/td>\n",
       "      <td>Great Smoky Mountains National Park<\/td>\n",
       "      <td>68<\/td>\n",
       "      <td>Vascular Plant<\/td>\n",
       "      <td>Purple Vetch, Reddish Tufted Vetch<\/td>\n",
       "      <td>NaN<\/td>\n",
       "    <\/tr>\n",
       "    <tr>\n",
       "      <th>1<\/th>\n",
       "      <td>Vicia benghalensis<\/td>\n",
       "      <td>Yosemite National Park<\/td>\n",
       "      <td>148<\/td>\n",
       "      <td>Vascular Plant<\/td>\n",
       "      <td>Purple Vetch, Reddish Tufted Vetch<\/td>\n",
       "      <td>NaN<\/td>\n",
       "    <\/tr>\n",
       "    <tr>\n",
       "      <th>2<\/th>\n",
       "      <td>Vicia benghalensis<\/td>\n",
       "      <td>Yellowstone National Park<\/td>\n",
       "      <td>247<\/td>\n",
       "      <td>Vascular Plant<\/td>\n",
       "      <td>Purple Vetch, Reddish Tufted Vetch<\/td>\n",
       "      <td>NaN<\/td>\n",
       "    <\/tr>\n",
       "    <tr>\n",
       "      <th>3<\/th>\n",
       "      <td>Vicia benghalensis<\/td>\n",
       "      <td>Bryce National Park<\/td>\n",
       "      <td>104<\/td>\n",
       "      <td>Vascular Plant<\/td>\n",
       "      <td>Purple Vetch, Reddish Tufted Vetch<\/td>\n",
       "      <td>NaN<\/td>\n",
       "    <\/tr>\n",
       "    <tr>\n",
       "      <th>4<\/th>\n",
       "      <td>Neovison vison<\/td>\n",
       "      <td>Great Smoky Mountains National Park<\/td>\n",
       "      <td>77<\/td>\n",
       "      <td>Mammal<\/td>\n",
       "      <td>American Mink<\/td>\n",
       "      <td>NaN<\/td>\n",
       "    <\/tr>\n",
       "  <\/tbody>\n",
       "<\/table>\n",
       "<\/div>"
      ]
     },
     "metadata":{
      
     },
     "output_type":"display_data"
    }
   ],
   "metadata":{
    "datalore":{
     "node_id":"rz4qswyH7YDDcQcRSPKWKE",
     "type":"CODE",
     "hide_input_from_viewers":true,
     "hide_output_from_viewers":true
    }
   }
  },
  {
   "cell_type":"code",
   "source":[
    "fig, ax = plt.subplots(figsize=(15,5))\n",
    "sns.histplot(x='category',\n",
    "             data=merged_df)\n",
    "plt.title('Different Categories of Animal')\n",
    "plt.show()"
   ],
   "execution_count":5,
   "outputs":[
    {
     "data":{
      "image\/png":"[encoded data removed]"
     },
     "metadata":{
      "image\/png":{
       
      }
     },
     "output_type":"display_data"
    }
   ],
   "metadata":{
    "datalore":{
     "node_id":"OTcytwY26t7juzztovcY7q",
     "type":"CODE",
     "hide_input_from_viewers":true,
     "hide_output_from_viewers":true
    }
   }
  },
  {
   "cell_type":"code",
   "source":[
    "merged_df.head()"
   ],
   "execution_count":6,
   "outputs":[
    {
     "data":{
      "text\/html":[
       "<div>\n",
       "<style scoped>\n",
       "    .dataframe tbody tr th:only-of-type {\n",
       "        vertical-align: middle;\n",
       "    }\n",
       "\n",
       "    .dataframe tbody tr th {\n",
       "        vertical-align: top;\n",
       "    }\n",
       "\n",
       "    .dataframe thead th {\n",
       "        text-align: right;\n",
       "    }\n",
       "<\/style>\n",
       "<table border=\"1\" class=\"dataframe\">\n",
       "  <thead>\n",
       "    <tr style=\"text-align: right;\">\n",
       "      <th><\/th>\n",
       "      <th>scientific_name<\/th>\n",
       "      <th>park_name<\/th>\n",
       "      <th>observations<\/th>\n",
       "      <th>category<\/th>\n",
       "      <th>common_names<\/th>\n",
       "      <th>conservation_status<\/th>\n",
       "    <\/tr>\n",
       "  <\/thead>\n",
       "  <tbody>\n",
       "    <tr>\n",
       "      <th>0<\/th>\n",
       "      <td>Vicia benghalensis<\/td>\n",
       "      <td>Great Smoky Mountains National Park<\/td>\n",
       "      <td>68<\/td>\n",
       "      <td>Vascular Plant<\/td>\n",
       "      <td>Purple Vetch, Reddish Tufted Vetch<\/td>\n",
       "      <td>NaN<\/td>\n",
       "    <\/tr>\n",
       "    <tr>\n",
       "      <th>1<\/th>\n",
       "      <td>Vicia benghalensis<\/td>\n",
       "      <td>Yosemite National Park<\/td>\n",
       "      <td>148<\/td>\n",
       "      <td>Vascular Plant<\/td>\n",
       "      <td>Purple Vetch, Reddish Tufted Vetch<\/td>\n",
       "      <td>NaN<\/td>\n",
       "    <\/tr>\n",
       "    <tr>\n",
       "      <th>2<\/th>\n",
       "      <td>Vicia benghalensis<\/td>\n",
       "      <td>Yellowstone National Park<\/td>\n",
       "      <td>247<\/td>\n",
       "      <td>Vascular Plant<\/td>\n",
       "      <td>Purple Vetch, Reddish Tufted Vetch<\/td>\n",
       "      <td>NaN<\/td>\n",
       "    <\/tr>\n",
       "    <tr>\n",
       "      <th>3<\/th>\n",
       "      <td>Vicia benghalensis<\/td>\n",
       "      <td>Bryce National Park<\/td>\n",
       "      <td>104<\/td>\n",
       "      <td>Vascular Plant<\/td>\n",
       "      <td>Purple Vetch, Reddish Tufted Vetch<\/td>\n",
       "      <td>NaN<\/td>\n",
       "    <\/tr>\n",
       "    <tr>\n",
       "      <th>4<\/th>\n",
       "      <td>Neovison vison<\/td>\n",
       "      <td>Great Smoky Mountains National Park<\/td>\n",
       "      <td>77<\/td>\n",
       "      <td>Mammal<\/td>\n",
       "      <td>American Mink<\/td>\n",
       "      <td>NaN<\/td>\n",
       "    <\/tr>\n",
       "  <\/tbody>\n",
       "<\/table>\n",
       "<\/div>"
      ]
     },
     "metadata":{
      
     },
     "output_type":"display_data"
    }
   ],
   "metadata":{
    "datalore":{
     "node_id":"09HrVxS8zUG0rjk7miKL7W",
     "type":"CODE",
     "hide_input_from_viewers":true,
     "hide_output_from_viewers":true
    }
   }
  },
  {
   "cell_type":"code",
   "source":[
    "fig,ax = plt.subplots(figsize=(14,7))\n",
    "sns.barplot(x='park_name',\n",
    "            y='observations',\n",
    "              data=merged_df)\n",
    "plt.title('Park Sighting Frequency')\n",
    "plt.show()"
   ],
   "execution_count":7,
   "outputs":[
    {
     "data":{
      "image\/png":"[encoded data removed]"
     },
     "metadata":{
      "image\/png":{
       
      }
     },
     "output_type":"display_data"
    }
   ],
   "metadata":{
    "datalore":{
     "node_id":"SR28V8oTkVwCDTcQb4Uvm8",
     "type":"CODE",
     "hide_input_from_viewers":true,
     "hide_output_from_viewers":true
    }
   }
  },
  {
   "cell_type":"code",
   "source":[
    "merged_df.nunique()"
   ],
   "execution_count":8,
   "outputs":[
    {
     "data":{
      "text\/html":[
       
      ]
     },
     "metadata":{
      
     },
     "output_type":"display_data"
    }
   ],
   "metadata":{
    "datalore":{
     "node_id":"hTRaCWJUTUDw9DdxEU2Arw",
     "type":"CODE",
     "hide_input_from_viewers":true,
     "hide_output_from_viewers":true
    }
   }
  },
  {
   "cell_type":"code",
   "source":[
    "# Change nan values in conservation_status column to \"None\"."
   ],
   "execution_count":9,
   "outputs":[
    
   ],
   "metadata":{
    "datalore":{
     "node_id":"kCDNCGtFHyI2eb104HwPE7",
     "type":"CODE",
     "hide_input_from_viewers":true,
     "hide_output_from_viewers":true
    }
   }
  },
  {
   "cell_type":"code",
   "source":[
    "merged_df['conservation_status'] = merged_df['conservation_status'].fillna(\"None\")\n",
    "merged_df.head()"
   ],
   "execution_count":10,
   "outputs":[
    {
     "data":{
      "text\/html":[
       "<div>\n",
       "<style scoped>\n",
       "    .dataframe tbody tr th:only-of-type {\n",
       "        vertical-align: middle;\n",
       "    }\n",
       "\n",
       "    .dataframe tbody tr th {\n",
       "        vertical-align: top;\n",
       "    }\n",
       "\n",
       "    .dataframe thead th {\n",
       "        text-align: right;\n",
       "    }\n",
       "<\/style>\n",
       "<table border=\"1\" class=\"dataframe\">\n",
       "  <thead>\n",
       "    <tr style=\"text-align: right;\">\n",
       "      <th><\/th>\n",
       "      <th>scientific_name<\/th>\n",
       "      <th>park_name<\/th>\n",
       "      <th>observations<\/th>\n",
       "      <th>category<\/th>\n",
       "      <th>common_names<\/th>\n",
       "      <th>conservation_status<\/th>\n",
       "    <\/tr>\n",
       "  <\/thead>\n",
       "  <tbody>\n",
       "    <tr>\n",
       "      <th>0<\/th>\n",
       "      <td>Vicia benghalensis<\/td>\n",
       "      <td>Great Smoky Mountains National Park<\/td>\n",
       "      <td>68<\/td>\n",
       "      <td>Vascular Plant<\/td>\n",
       "      <td>Purple Vetch, Reddish Tufted Vetch<\/td>\n",
       "      <td>None<\/td>\n",
       "    <\/tr>\n",
       "    <tr>\n",
       "      <th>1<\/th>\n",
       "      <td>Vicia benghalensis<\/td>\n",
       "      <td>Yosemite National Park<\/td>\n",
       "      <td>148<\/td>\n",
       "      <td>Vascular Plant<\/td>\n",
       "      <td>Purple Vetch, Reddish Tufted Vetch<\/td>\n",
       "      <td>None<\/td>\n",
       "    <\/tr>\n",
       "    <tr>\n",
       "      <th>2<\/th>\n",
       "      <td>Vicia benghalensis<\/td>\n",
       "      <td>Yellowstone National Park<\/td>\n",
       "      <td>247<\/td>\n",
       "      <td>Vascular Plant<\/td>\n",
       "      <td>Purple Vetch, Reddish Tufted Vetch<\/td>\n",
       "      <td>None<\/td>\n",
       "    <\/tr>\n",
       "    <tr>\n",
       "      <th>3<\/th>\n",
       "      <td>Vicia benghalensis<\/td>\n",
       "      <td>Bryce National Park<\/td>\n",
       "      <td>104<\/td>\n",
       "      <td>Vascular Plant<\/td>\n",
       "      <td>Purple Vetch, Reddish Tufted Vetch<\/td>\n",
       "      <td>None<\/td>\n",
       "    <\/tr>\n",
       "    <tr>\n",
       "      <th>4<\/th>\n",
       "      <td>Neovison vison<\/td>\n",
       "      <td>Great Smoky Mountains National Park<\/td>\n",
       "      <td>77<\/td>\n",
       "      <td>Mammal<\/td>\n",
       "      <td>American Mink<\/td>\n",
       "      <td>None<\/td>\n",
       "    <\/tr>\n",
       "  <\/tbody>\n",
       "<\/table>\n",
       "<\/div>"
      ]
     },
     "metadata":{
      
     },
     "output_type":"display_data"
    }
   ],
   "metadata":{
    "datalore":{
     "node_id":"CBLxH6nl9XJgzE7dUeRof3",
     "type":"CODE",
     "hide_input_from_viewers":true,
     "hide_output_from_viewers":true
    }
   }
  },
  {
   "cell_type":"code",
   "source":[
    "fig, ax = plt.subplots(figsize=(10,7))\n",
    "sns.countplot(x='conservation_status',\n",
    "             data=merged_df[merged_df.conservation_status != 'None'])\n",
    "plt.title('Endangered Species Count')\n",
    "\n",
    "plt.show()"
   ],
   "execution_count":11,
   "outputs":[
    {
     "data":{
      "image\/png":"[encoded data removed]"
     },
     "metadata":{
      "image\/png":{
       
      }
     },
     "output_type":"display_data"
    }
   ],
   "metadata":{
    "datalore":{
     "node_id":"KceILRyecbzf8NmxAhWdGq",
     "type":"CODE",
     "hide_input_from_viewers":true,
     "hide_output_from_viewers":true
    }
   }
  },
  {
   "cell_type":"code",
   "source":[
    "# Amount of animals at each park\n",
    "fig, ax = plt.subplots(figsize=(12,7))\n",
    "sns.barplot(x='park_name',\n",
    "            y='observations',\n",
    "            data=merged_df)\n",
    "plt.title('Observation Counts by Park')\n",
    "plt.xlabel('Park')\n",
    "plt.ylabel('Observation Count')\n",
    "plt.show()"
   ],
   "execution_count":12,
   "outputs":[
    {
     "data":{
      "image\/png":"[encoded data removed]"
     },
     "metadata":{
      "image\/png":{
       
      }
     },
     "output_type":"display_data"
    }
   ],
   "metadata":{
    "datalore":{
     "node_id":"mzY78dkZlxIKjMcu71oiy4",
     "type":"CODE",
     "hide_input_from_viewers":true,
     "hide_output_from_viewers":true
    }
   }
  },
  {
   "cell_type":"markdown",
   "source":[
    "## What Features Contribute to the Label of Endangered?"
   ],
   "attachments":{
    
   },
   "metadata":{
    "datalore":{
     "node_id":"xck5X2oSC7xaPHJ6iE7FI6",
     "type":"MD",
     "hide_input_from_viewers":true,
     "hide_output_from_viewers":true
    }
   }
  },
  {
   "cell_type":"code",
   "source":[
    "merged_df.head()"
   ],
   "execution_count":13,
   "outputs":[
    {
     "data":{
      "text\/html":[
       "<div>\n",
       "<style scoped>\n",
       "    .dataframe tbody tr th:only-of-type {\n",
       "        vertical-align: middle;\n",
       "    }\n",
       "\n",
       "    .dataframe tbody tr th {\n",
       "        vertical-align: top;\n",
       "    }\n",
       "\n",
       "    .dataframe thead th {\n",
       "        text-align: right;\n",
       "    }\n",
       "<\/style>\n",
       "<table border=\"1\" class=\"dataframe\">\n",
       "  <thead>\n",
       "    <tr style=\"text-align: right;\">\n",
       "      <th><\/th>\n",
       "      <th>scientific_name<\/th>\n",
       "      <th>park_name<\/th>\n",
       "      <th>observations<\/th>\n",
       "      <th>category<\/th>\n",
       "      <th>common_names<\/th>\n",
       "      <th>conservation_status<\/th>\n",
       "    <\/tr>\n",
       "  <\/thead>\n",
       "  <tbody>\n",
       "    <tr>\n",
       "      <th>0<\/th>\n",
       "      <td>Vicia benghalensis<\/td>\n",
       "      <td>Great Smoky Mountains National Park<\/td>\n",
       "      <td>68<\/td>\n",
       "      <td>Vascular Plant<\/td>\n",
       "      <td>Purple Vetch, Reddish Tufted Vetch<\/td>\n",
       "      <td>None<\/td>\n",
       "    <\/tr>\n",
       "    <tr>\n",
       "      <th>1<\/th>\n",
       "      <td>Vicia benghalensis<\/td>\n",
       "      <td>Yosemite National Park<\/td>\n",
       "      <td>148<\/td>\n",
       "      <td>Vascular Plant<\/td>\n",
       "      <td>Purple Vetch, Reddish Tufted Vetch<\/td>\n",
       "      <td>None<\/td>\n",
       "    <\/tr>\n",
       "    <tr>\n",
       "      <th>2<\/th>\n",
       "      <td>Vicia benghalensis<\/td>\n",
       "      <td>Yellowstone National Park<\/td>\n",
       "      <td>247<\/td>\n",
       "      <td>Vascular Plant<\/td>\n",
       "      <td>Purple Vetch, Reddish Tufted Vetch<\/td>\n",
       "      <td>None<\/td>\n",
       "    <\/tr>\n",
       "    <tr>\n",
       "      <th>3<\/th>\n",
       "      <td>Vicia benghalensis<\/td>\n",
       "      <td>Bryce National Park<\/td>\n",
       "      <td>104<\/td>\n",
       "      <td>Vascular Plant<\/td>\n",
       "      <td>Purple Vetch, Reddish Tufted Vetch<\/td>\n",
       "      <td>None<\/td>\n",
       "    <\/tr>\n",
       "    <tr>\n",
       "      <th>4<\/th>\n",
       "      <td>Neovison vison<\/td>\n",
       "      <td>Great Smoky Mountains National Park<\/td>\n",
       "      <td>77<\/td>\n",
       "      <td>Mammal<\/td>\n",
       "      <td>American Mink<\/td>\n",
       "      <td>None<\/td>\n",
       "    <\/tr>\n",
       "  <\/tbody>\n",
       "<\/table>\n",
       "<\/div>"
      ]
     },
     "metadata":{
      
     },
     "output_type":"display_data"
    }
   ],
   "metadata":{
    "datalore":{
     "node_id":"IcmxAHyRPoiWSpREde1pi0",
     "type":"CODE",
     "hide_input_from_viewers":true,
     "hide_output_from_viewers":true
    }
   }
  },
  {
   "cell_type":"code",
   "source":[
    "# Filter dataframe to show only species with an endangered label.\n",
    "endangered_df = merged_df[merged_df.conservation_status == 'Endangered']\n",
    "endangered_df.head()"
   ],
   "execution_count":14,
   "outputs":[
    {
     "data":{
      "text\/html":[
       "<div>\n",
       "<style scoped>\n",
       "    .dataframe tbody tr th:only-of-type {\n",
       "        vertical-align: middle;\n",
       "    }\n",
       "\n",
       "    .dataframe tbody tr th {\n",
       "        vertical-align: top;\n",
       "    }\n",
       "\n",
       "    .dataframe thead th {\n",
       "        text-align: right;\n",
       "    }\n",
       "<\/style>\n",
       "<table border=\"1\" class=\"dataframe\">\n",
       "  <thead>\n",
       "    <tr style=\"text-align: right;\">\n",
       "      <th><\/th>\n",
       "      <th>scientific_name<\/th>\n",
       "      <th>park_name<\/th>\n",
       "      <th>observations<\/th>\n",
       "      <th>category<\/th>\n",
       "      <th>common_names<\/th>\n",
       "      <th>conservation_status<\/th>\n",
       "    <\/tr>\n",
       "  <\/thead>\n",
       "  <tbody>\n",
       "    <tr>\n",
       "      <th>1400<\/th>\n",
       "      <td>Picoides borealis<\/td>\n",
       "      <td>Yosemite National Park<\/td>\n",
       "      <td>43<\/td>\n",
       "      <td>Bird<\/td>\n",
       "      <td>Red-Cockaded Woodpecker<\/td>\n",
       "      <td>Endangered<\/td>\n",
       "    <\/tr>\n",
       "    <tr>\n",
       "      <th>1401<\/th>\n",
       "      <td>Picoides borealis<\/td>\n",
       "      <td>Great Smoky Mountains National Park<\/td>\n",
       "      <td>15<\/td>\n",
       "      <td>Bird<\/td>\n",
       "      <td>Red-Cockaded Woodpecker<\/td>\n",
       "      <td>Endangered<\/td>\n",
       "    <\/tr>\n",
       "    <tr>\n",
       "      <th>1402<\/th>\n",
       "      <td>Picoides borealis<\/td>\n",
       "      <td>Yellowstone National Park<\/td>\n",
       "      <td>64<\/td>\n",
       "      <td>Bird<\/td>\n",
       "      <td>Red-Cockaded Woodpecker<\/td>\n",
       "      <td>Endangered<\/td>\n",
       "    <\/tr>\n",
       "    <tr>\n",
       "      <th>1403<\/th>\n",
       "      <td>Picoides borealis<\/td>\n",
       "      <td>Bryce National Park<\/td>\n",
       "      <td>24<\/td>\n",
       "      <td>Bird<\/td>\n",
       "      <td>Red-Cockaded Woodpecker<\/td>\n",
       "      <td>Endangered<\/td>\n",
       "    <\/tr>\n",
       "    <tr>\n",
       "      <th>2476<\/th>\n",
       "      <td>Rana sierrae<\/td>\n",
       "      <td>Yosemite National Park<\/td>\n",
       "      <td>42<\/td>\n",
       "      <td>Amphibian<\/td>\n",
       "      <td>Sierra Nevada Yellow-Legged Frog<\/td>\n",
       "      <td>Endangered<\/td>\n",
       "    <\/tr>\n",
       "  <\/tbody>\n",
       "<\/table>\n",
       "<\/div>"
      ]
     },
     "metadata":{
      
     },
     "output_type":"display_data"
    }
   ],
   "metadata":{
    "datalore":{
     "node_id":"lAW0JIiNKFTrtUUYYOe4sj",
     "type":"CODE",
     "hide_input_from_viewers":true,
     "hide_output_from_viewers":true
    }
   }
  },
  {
   "cell_type":"code",
   "source":[
    "# What park has the highest amount of endangered species?\n",
    "fig, ax = plt.subplots(figsize=(14,7))\n",
    "sns.barplot(x='park_name',\n",
    "             y='observations',\n",
    "             data=endangered_df,\n",
    "            capsize=.2)\n",
    "plt.title('Park Endangered Species Count')\n",
    "plt.xlabel('Park')\n",
    "plt.ylabel('Observations')\n",
    "plt.show()"
   ],
   "execution_count":15,
   "outputs":[
    {
     "data":{
      "image\/png":"[encoded data removed]"
     },
     "metadata":{
      "image\/png":{
       
      }
     },
     "output_type":"display_data"
    }
   ],
   "metadata":{
    "datalore":{
     "node_id":"u6RN3czAqxiwmlGOJOPx8H",
     "type":"CODE",
     "hide_input_from_viewers":true,
     "hide_output_from_viewers":true
    }
   }
  },
  {
   "cell_type":"code",
   "source":[
    "# What category of animal has the most endangered species?\n",
    "\n",
    "fig, ax = plt.subplots(figsize=(10,7))\n",
    "sns.countplot(x='category',\n",
    "              data=endangered_df)\n",
    "plt.title('Endangered Species by Category')\n",
    "plt.xlabel('Species Categories')\n",
    "plt.ylabel('Count')\n",
    "plt.show()"
   ],
   "execution_count":16,
   "outputs":[
    {
     "data":{
      "image\/png":"[encoded data removed]"
     },
     "metadata":{
      "image\/png":{
       
      }
     },
     "output_type":"display_data"
    }
   ],
   "metadata":{
    "datalore":{
     "node_id":"J512aE1sqd7Qhp3u0PN0yE",
     "type":"CODE",
     "hide_input_from_viewers":true,
     "hide_output_from_viewers":true
    }
   }
  },
  {
   "cell_type":"code",
   "source":[
    "endangered_df.head()"
   ],
   "execution_count":17,
   "outputs":[
    {
     "data":{
      "text\/html":[
       "<div>\n",
       "<style scoped>\n",
       "    .dataframe tbody tr th:only-of-type {\n",
       "        vertical-align: middle;\n",
       "    }\n",
       "\n",
       "    .dataframe tbody tr th {\n",
       "        vertical-align: top;\n",
       "    }\n",
       "\n",
       "    .dataframe thead th {\n",
       "        text-align: right;\n",
       "    }\n",
       "<\/style>\n",
       "<table border=\"1\" class=\"dataframe\">\n",
       "  <thead>\n",
       "    <tr style=\"text-align: right;\">\n",
       "      <th><\/th>\n",
       "      <th>scientific_name<\/th>\n",
       "      <th>park_name<\/th>\n",
       "      <th>observations<\/th>\n",
       "      <th>category<\/th>\n",
       "      <th>common_names<\/th>\n",
       "      <th>conservation_status<\/th>\n",
       "    <\/tr>\n",
       "  <\/thead>\n",
       "  <tbody>\n",
       "    <tr>\n",
       "      <th>1400<\/th>\n",
       "      <td>Picoides borealis<\/td>\n",
       "      <td>Yosemite National Park<\/td>\n",
       "      <td>43<\/td>\n",
       "      <td>Bird<\/td>\n",
       "      <td>Red-Cockaded Woodpecker<\/td>\n",
       "      <td>Endangered<\/td>\n",
       "    <\/tr>\n",
       "    <tr>\n",
       "      <th>1401<\/th>\n",
       "      <td>Picoides borealis<\/td>\n",
       "      <td>Great Smoky Mountains National Park<\/td>\n",
       "      <td>15<\/td>\n",
       "      <td>Bird<\/td>\n",
       "      <td>Red-Cockaded Woodpecker<\/td>\n",
       "      <td>Endangered<\/td>\n",
       "    <\/tr>\n",
       "    <tr>\n",
       "      <th>1402<\/th>\n",
       "      <td>Picoides borealis<\/td>\n",
       "      <td>Yellowstone National Park<\/td>\n",
       "      <td>64<\/td>\n",
       "      <td>Bird<\/td>\n",
       "      <td>Red-Cockaded Woodpecker<\/td>\n",
       "      <td>Endangered<\/td>\n",
       "    <\/tr>\n",
       "    <tr>\n",
       "      <th>1403<\/th>\n",
       "      <td>Picoides borealis<\/td>\n",
       "      <td>Bryce National Park<\/td>\n",
       "      <td>24<\/td>\n",
       "      <td>Bird<\/td>\n",
       "      <td>Red-Cockaded Woodpecker<\/td>\n",
       "      <td>Endangered<\/td>\n",
       "    <\/tr>\n",
       "    <tr>\n",
       "      <th>2476<\/th>\n",
       "      <td>Rana sierrae<\/td>\n",
       "      <td>Yosemite National Park<\/td>\n",
       "      <td>42<\/td>\n",
       "      <td>Amphibian<\/td>\n",
       "      <td>Sierra Nevada Yellow-Legged Frog<\/td>\n",
       "      <td>Endangered<\/td>\n",
       "    <\/tr>\n",
       "  <\/tbody>\n",
       "<\/table>\n",
       "<\/div>"
      ]
     },
     "metadata":{
      
     },
     "output_type":"display_data"
    }
   ],
   "metadata":{
    "datalore":{
     "node_id":"6SlTHKDDHzUTsuQWbd7GOM",
     "type":"CODE",
     "hide_input_from_viewers":true,
     "hide_output_from_viewers":true
    }
   }
  },
  {
   "cell_type":"code",
   "source":[
    "# What are the common names of endangered mammals?\n",
    "fig, ax = plt.subplots(figsize=(10,7))\n",
    "sns.barplot(x='common_names',\n",
    "            y='observations',\n",
    "            capsize=.2,\n",
    "             data=endangered_df[endangered_df.category == 'Mammal'])\n",
    "plt.xticks(rotation=70)\n",
    "plt.title('Endangered Mammals')\n",
    "plt.xlabel('Name')\n",
    "plt.ylabel('Count')\n",
    "plt.show()"
   ],
   "execution_count":18,
   "outputs":[
    {
     "data":{
      "image\/png":"[encoded data removed]"
     },
     "metadata":{
      "image\/png":{
       
      }
     },
     "output_type":"display_data"
    }
   ],
   "metadata":{
    "datalore":{
     "node_id":"fWZmd53yzInPwOdlNe0bO8",
     "type":"CODE",
     "hide_input_from_viewers":true,
     "hide_output_from_viewers":true
    }
   }
  },
  {
   "cell_type":"code",
   "source":[
    "endangered_df[endangered_df.common_names == 'Gray Wolf']"
   ],
   "execution_count":19,
   "outputs":[
    {
     "data":{
      "text\/html":[
       "<div>\n",
       "<style scoped>\n",
       "    .dataframe tbody tr th:only-of-type {\n",
       "        vertical-align: middle;\n",
       "    }\n",
       "\n",
       "    .dataframe tbody tr th {\n",
       "        vertical-align: top;\n",
       "    }\n",
       "\n",
       "    .dataframe thead th {\n",
       "        text-align: right;\n",
       "    }\n",
       "<\/style>\n",
       "<table border=\"1\" class=\"dataframe\">\n",
       "  <thead>\n",
       "    <tr style=\"text-align: right;\">\n",
       "      <th><\/th>\n",
       "      <th>scientific_name<\/th>\n",
       "      <th>park_name<\/th>\n",
       "      <th>observations<\/th>\n",
       "      <th>category<\/th>\n",
       "      <th>common_names<\/th>\n",
       "      <th>conservation_status<\/th>\n",
       "    <\/tr>\n",
       "  <\/thead>\n",
       "  <tbody>\n",
       "    <tr>\n",
       "      <th>6008<\/th>\n",
       "      <td>Canis lupus<\/td>\n",
       "      <td>Yosemite National Park<\/td>\n",
       "      <td>35<\/td>\n",
       "      <td>Mammal<\/td>\n",
       "      <td>Gray Wolf<\/td>\n",
       "      <td>Endangered<\/td>\n",
       "    <\/tr>\n",
       "    <tr>\n",
       "      <th>6011<\/th>\n",
       "      <td>Canis lupus<\/td>\n",
       "      <td>Bryce National Park<\/td>\n",
       "      <td>27<\/td>\n",
       "      <td>Mammal<\/td>\n",
       "      <td>Gray Wolf<\/td>\n",
       "      <td>Endangered<\/td>\n",
       "    <\/tr>\n",
       "    <tr>\n",
       "      <th>6014<\/th>\n",
       "      <td>Canis lupus<\/td>\n",
       "      <td>Bryce National Park<\/td>\n",
       "      <td>29<\/td>\n",
       "      <td>Mammal<\/td>\n",
       "      <td>Gray Wolf<\/td>\n",
       "      <td>Endangered<\/td>\n",
       "    <\/tr>\n",
       "    <tr>\n",
       "      <th>6017<\/th>\n",
       "      <td>Canis lupus<\/td>\n",
       "      <td>Bryce National Park<\/td>\n",
       "      <td>74<\/td>\n",
       "      <td>Mammal<\/td>\n",
       "      <td>Gray Wolf<\/td>\n",
       "      <td>Endangered<\/td>\n",
       "    <\/tr>\n",
       "    <tr>\n",
       "      <th>6020<\/th>\n",
       "      <td>Canis lupus<\/td>\n",
       "      <td>Great Smoky Mountains National Park<\/td>\n",
       "      <td>15<\/td>\n",
       "      <td>Mammal<\/td>\n",
       "      <td>Gray Wolf<\/td>\n",
       "      <td>Endangered<\/td>\n",
       "    <\/tr>\n",
       "    <tr>\n",
       "      <th>6023<\/th>\n",
       "      <td>Canis lupus<\/td>\n",
       "      <td>Yellowstone National Park<\/td>\n",
       "      <td>60<\/td>\n",
       "      <td>Mammal<\/td>\n",
       "      <td>Gray Wolf<\/td>\n",
       "      <td>Endangered<\/td>\n",
       "    <\/tr>\n",
       "    <tr>\n",
       "      <th>6026<\/th>\n",
       "      <td>Canis lupus<\/td>\n",
       "      <td>Yellowstone National Park<\/td>\n",
       "      <td>67<\/td>\n",
       "      <td>Mammal<\/td>\n",
       "      <td>Gray Wolf<\/td>\n",
       "      <td>Endangered<\/td>\n",
       "    <\/tr>\n",
       "    <tr>\n",
       "      <th>6029<\/th>\n",
       "      <td>Canis lupus<\/td>\n",
       "      <td>Yellowstone National Park<\/td>\n",
       "      <td>203<\/td>\n",
       "      <td>Mammal<\/td>\n",
       "      <td>Gray Wolf<\/td>\n",
       "      <td>Endangered<\/td>\n",
       "    <\/tr>\n",
       "    <tr>\n",
       "      <th>6032<\/th>\n",
       "      <td>Canis lupus<\/td>\n",
       "      <td>Great Smoky Mountains National Park<\/td>\n",
       "      <td>14<\/td>\n",
       "      <td>Mammal<\/td>\n",
       "      <td>Gray Wolf<\/td>\n",
       "      <td>Endangered<\/td>\n",
       "    <\/tr>\n",
       "    <tr>\n",
       "      <th>6035<\/th>\n",
       "      <td>Canis lupus<\/td>\n",
       "      <td>Yosemite National Park<\/td>\n",
       "      <td>117<\/td>\n",
       "      <td>Mammal<\/td>\n",
       "      <td>Gray Wolf<\/td>\n",
       "      <td>Endangered<\/td>\n",
       "    <\/tr>\n",
       "    <tr>\n",
       "      <th>6038<\/th>\n",
       "      <td>Canis lupus<\/td>\n",
       "      <td>Yosemite National Park<\/td>\n",
       "      <td>44<\/td>\n",
       "      <td>Mammal<\/td>\n",
       "      <td>Gray Wolf<\/td>\n",
       "      <td>Endangered<\/td>\n",
       "    <\/tr>\n",
       "    <tr>\n",
       "      <th>6041<\/th>\n",
       "      <td>Canis lupus<\/td>\n",
       "      <td>Great Smoky Mountains National Park<\/td>\n",
       "      <td>30<\/td>\n",
       "      <td>Mammal<\/td>\n",
       "      <td>Gray Wolf<\/td>\n",
       "      <td>Endangered<\/td>\n",
       "    <\/tr>\n",
       "  <\/tbody>\n",
       "<\/table>\n",
       "<\/div>"
      ]
     },
     "metadata":{
      
     },
     "output_type":"display_data"
    }
   ],
   "metadata":{
    "datalore":{
     "node_id":"arRSEKzUfu9lZOiuJG3yfx",
     "type":"CODE",
     "hide_input_from_viewers":true,
     "hide_output_from_viewers":true
    }
   }
  },
  {
   "cell_type":"code",
   "source":[
    "# What parks have the most observed gray wolves?\n",
    "fig, ax = plt.subplots(figsize=(12,6))\n",
    "sns.boxplot(x='park_name',\n",
    "            y='observations',\n",
    "            data=endangered_df[endangered_df.scientific_name == 'Canis lupus'])\n",
    "plt.title('Grey Wolf Observations by Park')\n",
    "plt.ylabel('Observations')\n",
    "plt.xlabel('Park')\n",
    "plt.show()"
   ],
   "execution_count":20,
   "outputs":[
    {
     "data":{
      "image\/png":"[encoded data removed]"
     },
     "metadata":{
      "image\/png":{
       
      }
     },
     "output_type":"display_data"
    }
   ],
   "metadata":{
    "datalore":{
     "node_id":"soiTmz3Dzwu73yovOM9Tj3",
     "type":"CODE",
     "hide_input_from_viewers":true,
     "hide_output_from_viewers":true
    }
   }
  },
  {
   "cell_type":"code",
   "source":[
    "endangered_df.head()"
   ],
   "execution_count":21,
   "outputs":[
    {
     "data":{
      "text\/html":[
       "<div>\n",
       "<style scoped>\n",
       "    .dataframe tbody tr th:only-of-type {\n",
       "        vertical-align: middle;\n",
       "    }\n",
       "\n",
       "    .dataframe tbody tr th {\n",
       "        vertical-align: top;\n",
       "    }\n",
       "\n",
       "    .dataframe thead th {\n",
       "        text-align: right;\n",
       "    }\n",
       "<\/style>\n",
       "<table border=\"1\" class=\"dataframe\">\n",
       "  <thead>\n",
       "    <tr style=\"text-align: right;\">\n",
       "      <th><\/th>\n",
       "      <th>scientific_name<\/th>\n",
       "      <th>park_name<\/th>\n",
       "      <th>observations<\/th>\n",
       "      <th>category<\/th>\n",
       "      <th>common_names<\/th>\n",
       "      <th>conservation_status<\/th>\n",
       "    <\/tr>\n",
       "  <\/thead>\n",
       "  <tbody>\n",
       "    <tr>\n",
       "      <th>1400<\/th>\n",
       "      <td>Picoides borealis<\/td>\n",
       "      <td>Yosemite National Park<\/td>\n",
       "      <td>43<\/td>\n",
       "      <td>Bird<\/td>\n",
       "      <td>Red-Cockaded Woodpecker<\/td>\n",
       "      <td>Endangered<\/td>\n",
       "    <\/tr>\n",
       "    <tr>\n",
       "      <th>1401<\/th>\n",
       "      <td>Picoides borealis<\/td>\n",
       "      <td>Great Smoky Mountains National Park<\/td>\n",
       "      <td>15<\/td>\n",
       "      <td>Bird<\/td>\n",
       "      <td>Red-Cockaded Woodpecker<\/td>\n",
       "      <td>Endangered<\/td>\n",
       "    <\/tr>\n",
       "    <tr>\n",
       "      <th>1402<\/th>\n",
       "      <td>Picoides borealis<\/td>\n",
       "      <td>Yellowstone National Park<\/td>\n",
       "      <td>64<\/td>\n",
       "      <td>Bird<\/td>\n",
       "      <td>Red-Cockaded Woodpecker<\/td>\n",
       "      <td>Endangered<\/td>\n",
       "    <\/tr>\n",
       "    <tr>\n",
       "      <th>1403<\/th>\n",
       "      <td>Picoides borealis<\/td>\n",
       "      <td>Bryce National Park<\/td>\n",
       "      <td>24<\/td>\n",
       "      <td>Bird<\/td>\n",
       "      <td>Red-Cockaded Woodpecker<\/td>\n",
       "      <td>Endangered<\/td>\n",
       "    <\/tr>\n",
       "    <tr>\n",
       "      <th>2476<\/th>\n",
       "      <td>Rana sierrae<\/td>\n",
       "      <td>Yosemite National Park<\/td>\n",
       "      <td>42<\/td>\n",
       "      <td>Amphibian<\/td>\n",
       "      <td>Sierra Nevada Yellow-Legged Frog<\/td>\n",
       "      <td>Endangered<\/td>\n",
       "    <\/tr>\n",
       "  <\/tbody>\n",
       "<\/table>\n",
       "<\/div>"
      ]
     },
     "metadata":{
      
     },
     "output_type":"display_data"
    }
   ],
   "metadata":{
    "datalore":{
     "node_id":"vcyoyJ9nCPKoTe7SVopfFf",
     "type":"CODE",
     "hide_input_from_viewers":true,
     "hide_output_from_viewers":true
    }
   }
  },
  {
   "cell_type":"code",
   "source":[
    "# Gray wolf observations versus other animal observations\n",
    "fig, axes = plt.subplots(1,2, figsize=(22,6))\n",
    "sns.barplot(x='park_name',\n",
    "              y='observations',\n",
    "              data=endangered_df[(endangered_df.scientific_name == 'Canis lupus')],\n",
    "            ax=axes[0],\n",
    "            capsize=.2)\n",
    "sns.barplot(x='park_name',\n",
    "              y='observations',\n",
    "            data=endangered_df[(endangered_df.scientific_name != 'Canis lupus') & (endangered_df.category == 'Mammal')],\n",
    "              ax=axes[1],\n",
    "            capsize=.2)\n",
    "\n",
    "plt.suptitle('Grey Wolf Observations Versus Other Mammals')\n",
    "axes[0].set_title('Wolves')\n",
    "axes[1].set_title('Others')\n",
    "axes[1].set_yticks(range(0, 170, 10))\n",
    "axes[0].set_yticks(range(0, 170, 10))\n",
    "axes[0].set_xlabel('Park')\n",
    "axes[1].set_xlabel('Park')\n",
    "axes[0].set_xticklabels(['Yosemite', 'Bryce', 'Smoky Mts', 'Yellowstone'])\n",
    "axes[1].set_xticklabels(['Yosemite', 'Bryce', 'Smoky Mts', 'Yellowstone'])\n",
    "plt.show()"
   ],
   "execution_count":22,
   "outputs":[
    {
     "data":{
      "image\/png":"[encoded data removed]"
     },
     "metadata":{
      "image\/png":{
       
      }
     },
     "output_type":"display_data"
    }
   ],
   "metadata":{
    "datalore":{
     "node_id":"bQFdHXp4oWm0uSnFavrdnJ",
     "type":"CODE",
     "hide_input_from_viewers":true,
     "hide_output_from_viewers":true
    }
   }
  },
  {
   "cell_type":"markdown",
   "source":[
    "### Summary\n",
    "- Despite vascular plants making up the bulk of species in the dataset, mammals are more likely to be endangered.\n",
    "- Gray Wolves, the most endangered mammal, has more observations than other endangered mammals. This could mean that endangered animals are observed more often than their counterparts. If more observations leads to an animal becoming endangered is yet to be determined.\n",
    "- Bryce National Park has the highest amount of endangered species when compared to the amount of general species observations that this park has. "
   ],
   "attachments":{
    
   },
   "metadata":{
    "datalore":{
     "node_id":"oA36NLKuQF8Aa4r5ubGMwr",
     "type":"MD",
     "hide_input_from_viewers":true,
     "hide_output_from_viewers":true
    }
   }
  },
  {
   "cell_type":"markdown",
   "source":[
    "## Which Parks are the Most Biodiverse?"
   ],
   "attachments":{
    
   },
   "metadata":{
    "datalore":{
     "node_id":"eRZ3J3fXQh9fXvLlNesEgb",
     "type":"MD",
     "hide_input_from_viewers":true,
     "hide_output_from_viewers":true
    }
   }
  },
  {
   "cell_type":"code",
   "source":[
    "merged_df.head()"
   ],
   "execution_count":23,
   "outputs":[
    {
     "data":{
      "text\/html":[
       "<div>\n",
       "<style scoped>\n",
       "    .dataframe tbody tr th:only-of-type {\n",
       "        vertical-align: middle;\n",
       "    }\n",
       "\n",
       "    .dataframe tbody tr th {\n",
       "        vertical-align: top;\n",
       "    }\n",
       "\n",
       "    .dataframe thead th {\n",
       "        text-align: right;\n",
       "    }\n",
       "<\/style>\n",
       "<table border=\"1\" class=\"dataframe\">\n",
       "  <thead>\n",
       "    <tr style=\"text-align: right;\">\n",
       "      <th><\/th>\n",
       "      <th>scientific_name<\/th>\n",
       "      <th>park_name<\/th>\n",
       "      <th>observations<\/th>\n",
       "      <th>category<\/th>\n",
       "      <th>common_names<\/th>\n",
       "      <th>conservation_status<\/th>\n",
       "    <\/tr>\n",
       "  <\/thead>\n",
       "  <tbody>\n",
       "    <tr>\n",
       "      <th>0<\/th>\n",
       "      <td>Vicia benghalensis<\/td>\n",
       "      <td>Great Smoky Mountains National Park<\/td>\n",
       "      <td>68<\/td>\n",
       "      <td>Vascular Plant<\/td>\n",
       "      <td>Purple Vetch, Reddish Tufted Vetch<\/td>\n",
       "      <td>None<\/td>\n",
       "    <\/tr>\n",
       "    <tr>\n",
       "      <th>1<\/th>\n",
       "      <td>Vicia benghalensis<\/td>\n",
       "      <td>Yosemite National Park<\/td>\n",
       "      <td>148<\/td>\n",
       "      <td>Vascular Plant<\/td>\n",
       "      <td>Purple Vetch, Reddish Tufted Vetch<\/td>\n",
       "      <td>None<\/td>\n",
       "    <\/tr>\n",
       "    <tr>\n",
       "      <th>2<\/th>\n",
       "      <td>Vicia benghalensis<\/td>\n",
       "      <td>Yellowstone National Park<\/td>\n",
       "      <td>247<\/td>\n",
       "      <td>Vascular Plant<\/td>\n",
       "      <td>Purple Vetch, Reddish Tufted Vetch<\/td>\n",
       "      <td>None<\/td>\n",
       "    <\/tr>\n",
       "    <tr>\n",
       "      <th>3<\/th>\n",
       "      <td>Vicia benghalensis<\/td>\n",
       "      <td>Bryce National Park<\/td>\n",
       "      <td>104<\/td>\n",
       "      <td>Vascular Plant<\/td>\n",
       "      <td>Purple Vetch, Reddish Tufted Vetch<\/td>\n",
       "      <td>None<\/td>\n",
       "    <\/tr>\n",
       "    <tr>\n",
       "      <th>4<\/th>\n",
       "      <td>Neovison vison<\/td>\n",
       "      <td>Great Smoky Mountains National Park<\/td>\n",
       "      <td>77<\/td>\n",
       "      <td>Mammal<\/td>\n",
       "      <td>American Mink<\/td>\n",
       "      <td>None<\/td>\n",
       "    <\/tr>\n",
       "  <\/tbody>\n",
       "<\/table>\n",
       "<\/div>"
      ]
     },
     "metadata":{
      
     },
     "output_type":"display_data"
    }
   ],
   "metadata":{
    "datalore":{
     "node_id":"CrdNMeD82W9zVHLuUrNq1Q",
     "type":"CODE",
     "hide_input_from_viewers":true,
     "hide_output_from_viewers":true
    }
   }
  },
  {
   "cell_type":"code",
   "source":[
    "# Four parks: Great Smoky Mountains National Park, Yosemite National Park, Yellowstone National Park, Bryce National Park"
   ],
   "execution_count":24,
   "outputs":[
    
   ],
   "metadata":{
    "datalore":{
     "node_id":"tqq0uXXLLKhZuIpecFGMHf",
     "type":"CODE",
     "hide_input_from_viewers":true,
     "hide_output_from_viewers":true
    }
   }
  },
  {
   "cell_type":"code",
   "source":[
    "# Great Smoky Mountains National Park\n",
    "smoky_df = merged_df[merged_df.park_name == 'Great Smoky Mountains National Park']\n",
    "smoky_df.head()"
   ],
   "execution_count":25,
   "outputs":[
    {
     "data":{
      "text\/html":[
       "<div>\n",
       "<style scoped>\n",
       "    .dataframe tbody tr th:only-of-type {\n",
       "        vertical-align: middle;\n",
       "    }\n",
       "\n",
       "    .dataframe tbody tr th {\n",
       "        vertical-align: top;\n",
       "    }\n",
       "\n",
       "    .dataframe thead th {\n",
       "        text-align: right;\n",
       "    }\n",
       "<\/style>\n",
       "<table border=\"1\" class=\"dataframe\">\n",
       "  <thead>\n",
       "    <tr style=\"text-align: right;\">\n",
       "      <th><\/th>\n",
       "      <th>scientific_name<\/th>\n",
       "      <th>park_name<\/th>\n",
       "      <th>observations<\/th>\n",
       "      <th>category<\/th>\n",
       "      <th>common_names<\/th>\n",
       "      <th>conservation_status<\/th>\n",
       "    <\/tr>\n",
       "  <\/thead>\n",
       "  <tbody>\n",
       "    <tr>\n",
       "      <th>0<\/th>\n",
       "      <td>Vicia benghalensis<\/td>\n",
       "      <td>Great Smoky Mountains National Park<\/td>\n",
       "      <td>68<\/td>\n",
       "      <td>Vascular Plant<\/td>\n",
       "      <td>Purple Vetch, Reddish Tufted Vetch<\/td>\n",
       "      <td>None<\/td>\n",
       "    <\/tr>\n",
       "    <tr>\n",
       "      <th>4<\/th>\n",
       "      <td>Neovison vison<\/td>\n",
       "      <td>Great Smoky Mountains National Park<\/td>\n",
       "      <td>77<\/td>\n",
       "      <td>Mammal<\/td>\n",
       "      <td>American Mink<\/td>\n",
       "      <td>None<\/td>\n",
       "    <\/tr>\n",
       "    <tr>\n",
       "      <th>11<\/th>\n",
       "      <td>Prunus subcordata<\/td>\n",
       "      <td>Great Smoky Mountains National Park<\/td>\n",
       "      <td>72<\/td>\n",
       "      <td>Vascular Plant<\/td>\n",
       "      <td>Klamath Plum<\/td>\n",
       "      <td>None<\/td>\n",
       "    <\/tr>\n",
       "    <tr>\n",
       "      <th>14<\/th>\n",
       "      <td>Abutilon theophrasti<\/td>\n",
       "      <td>Great Smoky Mountains National Park<\/td>\n",
       "      <td>85<\/td>\n",
       "      <td>Vascular Plant<\/td>\n",
       "      <td>Velvetleaf<\/td>\n",
       "      <td>None<\/td>\n",
       "    <\/tr>\n",
       "    <tr>\n",
       "      <th>16<\/th>\n",
       "      <td>Githopsis specularioides<\/td>\n",
       "      <td>Great Smoky Mountains National Park<\/td>\n",
       "      <td>85<\/td>\n",
       "      <td>Vascular Plant<\/td>\n",
       "      <td>Common Bluecup<\/td>\n",
       "      <td>None<\/td>\n",
       "    <\/tr>\n",
       "  <\/tbody>\n",
       "<\/table>\n",
       "<\/div>"
      ]
     },
     "metadata":{
      
     },
     "output_type":"display_data"
    }
   ],
   "metadata":{
    "datalore":{
     "node_id":"ll1ZZ3aMKzrjpGPGNqtBrn",
     "type":"CODE",
     "hide_input_from_viewers":true,
     "hide_output_from_viewers":true
    }
   }
  },
  {
   "cell_type":"code",
   "source":[
    "fig, axes = plt.subplots(1,4,figsize=(20,7))\n",
    "sns.barplot(x='category',\n",
    "            y='observations',\n",
    "              data=smoky_df,\n",
    "              ax=axes[0],\n",
    "            capsize=.2)\n",
    "sns.barplot(x='category',\n",
    "            y='observations',\n",
    "              data=merged_df[merged_df.park_name == 'Yosemite National Park'],\n",
    "              ax=axes[1],\n",
    "            capsize=.2)\n",
    "sns.barplot(x='category',\n",
    "            y='observations',\n",
    "              data=merged_df[merged_df.park_name == 'Yellowstone National Park'],\n",
    "              ax=axes[2],\n",
    "            capsize=.2)\n",
    "sns.barplot(x='category',\n",
    "            y='observations',\n",
    "              data=merged_df[merged_df.park_name == 'Bryce National Park'],\n",
    "              ax=axes[3],\n",
    "            capsize=.2)\n",
    "\n",
    "# Rotate x labels\n",
    "labels = ['Vascular Plant', 'Nonvascular Plant','Mammal', 'Bird', 'Reptile', 'Amphibian', 'Fish']\n",
    "axes[0].set_xticklabels(labels, rotation=45, ha='right')\n",
    "axes[1].set_xticklabels(labels, rotation=45, ha='right')\n",
    "axes[2].set_xticklabels(labels, rotation=45, ha='right')\n",
    "axes[3].set_xticklabels(labels, rotation=45, ha='right')\n",
    "\n",
    "# Set titles\n",
    "axes[0].set_title('Smoky Mountains')\n",
    "axes[1].set_title('Yosemite')\n",
    "axes[2].set_title('Yellowstone')\n",
    "axes[3].set_title('Bryce')\n",
    "plt.suptitle('Biodiversity of National Parks by Species Category')\n",
    "\n",
    "# Set a shared y-axis of 0 to 270.\n",
    "num_range = [50,270]\n",
    "axes[0].set_ylim(num_range)\n",
    "axes[1].set_ylim(num_range)\n",
    "axes[2].set_ylim(num_range)\n",
    "axes[3].set_ylim(num_range)\n",
    "\n",
    "plt.show()"
   ],
   "execution_count":26,
   "outputs":[
    {
     "data":{
      "image\/png":"[encoded data removed]"
     },
     "metadata":{
      "image\/png":{
       
      }
     },
     "output_type":"display_data"
    }
   ],
   "metadata":{
    "datalore":{
     "node_id":"PjAqTWOHSaEJ59VCwKviX6",
     "type":"CODE",
     "hide_input_from_viewers":true,
     "hide_output_from_viewers":true
    }
   }
  },
  {
   "cell_type":"markdown",
   "source":[
    "### Summary\n",
    "- All parks have a good spread of different categories of species.\n",
    "- Yellowstone has the most species observations out of all four of the parks, while Smoky Mountains has the least.\n",
    "- Smoky Mountains has the most even spread of species.\n",
    "- To get a more even spread of biodiversity, Yosemite and Yellowstone could plant more nonvascular plants. In the case of Bryce National Park, more reptiles could be brought in."
   ],
   "attachments":{
    
   },
   "metadata":{
    "datalore":{
     "node_id":"rwX7auLl7Q5c3CYwaG87xS",
     "type":"MD",
     "hide_input_from_viewers":true,
     "hide_output_from_viewers":true
    }
   }
  },
  {
   "cell_type":"markdown",
   "source":[
    "## Does Park Biodiversity Lead to Having More Recovering Species?"
   ],
   "attachments":{
    
   },
   "metadata":{
    "datalore":{
     "node_id":"DwJF6l4oUJvL7Rz3aJpyox",
     "type":"MD",
     "hide_input_from_viewers":true,
     "hide_output_from_viewers":true
    }
   }
  },
  {
   "cell_type":"code",
   "source":[
    "merged_df.head()"
   ],
   "execution_count":28,
   "outputs":[
    {
     "data":{
      "text\/html":[
       "<div>\n",
       "<style scoped>\n",
       "    .dataframe tbody tr th:only-of-type {\n",
       "        vertical-align: middle;\n",
       "    }\n",
       "\n",
       "    .dataframe tbody tr th {\n",
       "        vertical-align: top;\n",
       "    }\n",
       "\n",
       "    .dataframe thead th {\n",
       "        text-align: right;\n",
       "    }\n",
       "<\/style>\n",
       "<table border=\"1\" class=\"dataframe\">\n",
       "  <thead>\n",
       "    <tr style=\"text-align: right;\">\n",
       "      <th><\/th>\n",
       "      <th>scientific_name<\/th>\n",
       "      <th>park_name<\/th>\n",
       "      <th>observations<\/th>\n",
       "      <th>category<\/th>\n",
       "      <th>common_names<\/th>\n",
       "      <th>conservation_status<\/th>\n",
       "    <\/tr>\n",
       "  <\/thead>\n",
       "  <tbody>\n",
       "    <tr>\n",
       "      <th>0<\/th>\n",
       "      <td>Vicia benghalensis<\/td>\n",
       "      <td>Great Smoky Mountains National Park<\/td>\n",
       "      <td>68<\/td>\n",
       "      <td>Vascular Plant<\/td>\n",
       "      <td>Purple Vetch, Reddish Tufted Vetch<\/td>\n",
       "      <td>None<\/td>\n",
       "    <\/tr>\n",
       "    <tr>\n",
       "      <th>1<\/th>\n",
       "      <td>Vicia benghalensis<\/td>\n",
       "      <td>Yosemite National Park<\/td>\n",
       "      <td>148<\/td>\n",
       "      <td>Vascular Plant<\/td>\n",
       "      <td>Purple Vetch, Reddish Tufted Vetch<\/td>\n",
       "      <td>None<\/td>\n",
       "    <\/tr>\n",
       "    <tr>\n",
       "      <th>2<\/th>\n",
       "      <td>Vicia benghalensis<\/td>\n",
       "      <td>Yellowstone National Park<\/td>\n",
       "      <td>247<\/td>\n",
       "      <td>Vascular Plant<\/td>\n",
       "      <td>Purple Vetch, Reddish Tufted Vetch<\/td>\n",
       "      <td>None<\/td>\n",
       "    <\/tr>\n",
       "    <tr>\n",
       "      <th>3<\/th>\n",
       "      <td>Vicia benghalensis<\/td>\n",
       "      <td>Bryce National Park<\/td>\n",
       "      <td>104<\/td>\n",
       "      <td>Vascular Plant<\/td>\n",
       "      <td>Purple Vetch, Reddish Tufted Vetch<\/td>\n",
       "      <td>None<\/td>\n",
       "    <\/tr>\n",
       "    <tr>\n",
       "      <th>4<\/th>\n",
       "      <td>Neovison vison<\/td>\n",
       "      <td>Great Smoky Mountains National Park<\/td>\n",
       "      <td>77<\/td>\n",
       "      <td>Mammal<\/td>\n",
       "      <td>American Mink<\/td>\n",
       "      <td>None<\/td>\n",
       "    <\/tr>\n",
       "  <\/tbody>\n",
       "<\/table>\n",
       "<\/div>"
      ]
     },
     "metadata":{
      
     },
     "output_type":"display_data"
    }
   ],
   "metadata":{
    "datalore":{
     "node_id":"0Ii8LG9Mt4FzgT3hXy8Ypk",
     "type":"CODE",
     "hide_input_from_viewers":true,
     "hide_output_from_viewers":true
    }
   }
  },
  {
   "cell_type":"code",
   "source":[
    "# Create a dataframe with species labeled as \"in recovery\".\n",
    "recovering_df = merged_df[merged_df.conservation_status == 'In Recovery']\n",
    "recovering_df.head()"
   ],
   "execution_count":31,
   "outputs":[
    {
     "data":{
      "text\/html":[
       "<div>\n",
       "<style scoped>\n",
       "    .dataframe tbody tr th:only-of-type {\n",
       "        vertical-align: middle;\n",
       "    }\n",
       "\n",
       "    .dataframe tbody tr th {\n",
       "        vertical-align: top;\n",
       "    }\n",
       "\n",
       "    .dataframe thead th {\n",
       "        text-align: right;\n",
       "    }\n",
       "<\/style>\n",
       "<table border=\"1\" class=\"dataframe\">\n",
       "  <thead>\n",
       "    <tr style=\"text-align: right;\">\n",
       "      <th><\/th>\n",
       "      <th>scientific_name<\/th>\n",
       "      <th>park_name<\/th>\n",
       "      <th>observations<\/th>\n",
       "      <th>category<\/th>\n",
       "      <th>common_names<\/th>\n",
       "      <th>conservation_status<\/th>\n",
       "    <\/tr>\n",
       "  <\/thead>\n",
       "  <tbody>\n",
       "    <tr>\n",
       "      <th>6009<\/th>\n",
       "      <td>Canis lupus<\/td>\n",
       "      <td>Yosemite National Park<\/td>\n",
       "      <td>35<\/td>\n",
       "      <td>Mammal<\/td>\n",
       "      <td>Gray Wolf, Wolf<\/td>\n",
       "      <td>In Recovery<\/td>\n",
       "    <\/tr>\n",
       "    <tr>\n",
       "      <th>6012<\/th>\n",
       "      <td>Canis lupus<\/td>\n",
       "      <td>Bryce National Park<\/td>\n",
       "      <td>27<\/td>\n",
       "      <td>Mammal<\/td>\n",
       "      <td>Gray Wolf, Wolf<\/td>\n",
       "      <td>In Recovery<\/td>\n",
       "    <\/tr>\n",
       "    <tr>\n",
       "      <th>6015<\/th>\n",
       "      <td>Canis lupus<\/td>\n",
       "      <td>Bryce National Park<\/td>\n",
       "      <td>29<\/td>\n",
       "      <td>Mammal<\/td>\n",
       "      <td>Gray Wolf, Wolf<\/td>\n",
       "      <td>In Recovery<\/td>\n",
       "    <\/tr>\n",
       "    <tr>\n",
       "      <th>6018<\/th>\n",
       "      <td>Canis lupus<\/td>\n",
       "      <td>Bryce National Park<\/td>\n",
       "      <td>74<\/td>\n",
       "      <td>Mammal<\/td>\n",
       "      <td>Gray Wolf, Wolf<\/td>\n",
       "      <td>In Recovery<\/td>\n",
       "    <\/tr>\n",
       "    <tr>\n",
       "      <th>6021<\/th>\n",
       "      <td>Canis lupus<\/td>\n",
       "      <td>Great Smoky Mountains National Park<\/td>\n",
       "      <td>15<\/td>\n",
       "      <td>Mammal<\/td>\n",
       "      <td>Gray Wolf, Wolf<\/td>\n",
       "      <td>In Recovery<\/td>\n",
       "    <\/tr>\n",
       "  <\/tbody>\n",
       "<\/table>\n",
       "<\/div>"
      ]
     },
     "metadata":{
      
     },
     "output_type":"display_data"
    }
   ],
   "metadata":{
    "datalore":{
     "node_id":"T3szVZEVrw4gygor1bolMv",
     "type":"CODE",
     "hide_input_from_viewers":true,
     "hide_output_from_viewers":true
    }
   }
  },
  {
   "cell_type":"code",
   "source":[
    "# Which category of species has the most \"in recovery\" observations?\n",
    "fig, ax = plt.subplots(figsize=(8,5))\n",
    "sns.barplot(x='category',\n",
    "            y='observations',\n",
    "            data=recovering_df,\n",
    "            capsize=.2)\n",
    "plt.xlabel('Species Categories')\n",
    "plt.ylabel('Observations')\n",
    "plt.title('Amount of Species In Recovery')\n",
    "plt.show()"
   ],
   "execution_count":37,
   "outputs":[
    {
     "data":{
      "image\/png":"[encoded data removed]"
     },
     "metadata":{
      "image\/png":{
       
      }
     },
     "output_type":"display_data"
    }
   ],
   "metadata":{
    "datalore":{
     "node_id":"aGp81l4P8nJ5mfxMwqRKkQ",
     "type":"CODE",
     "hide_input_from_viewers":true,
     "hide_output_from_viewers":true
    }
   }
  },
  {
   "cell_type":"code",
   "source":[
    "# Which parks have the most species in recovery?\n",
    "fig, ax = plt.subplots(figsize=(15,7))\n",
    "sns.boxplot(x='park_name',\n",
    "            y='observations',\n",
    "            data=recovering_df)\n",
    "plt.xlabel('Parks')\n",
    "plt.ylabel('Observations')\n",
    "plt.title('Parks with Species in Recovering Status')\n",
    "plt.show()"
   ],
   "execution_count":39,
   "outputs":[
    {
     "data":{
      "image\/png":"[encoded data removed]"
     },
     "metadata":{
      "image\/png":{
       
      }
     },
     "output_type":"display_data"
    }
   ],
   "metadata":{
    "datalore":{
     "node_id":"8HYfmgPF2eRtu0zQRlBnlD",
     "type":"CODE",
     "hide_input_from_viewers":true,
     "hide_output_from_viewers":true
    }
   }
  },
  {
   "cell_type":"markdown",
   "source":[
    "### Summary\n",
    "- Mammals and birds are the only species categories with species in recovery.\n",
    "- Birds have the most species in recovery.\n",
    "- Yellowstone has the most species in recovery. Following Yellowstone is Yosemite National Park.\n",
    "- Smoky Mountains had the most even spread of species, yet it has the least amount of recovering species."
   ],
   "attachments":{
    
   },
   "metadata":{
    "datalore":{
     "node_id":"2DO70K9k733CXp2eBNOCSO",
     "type":"MD",
     "hide_input_from_viewers":true,
     "hide_output_from_viewers":true
    }
   }
  },
  {
   "cell_type":"markdown",
   "source":[
    "# Final Summary\n",
    "## What Features Contribute to the Label of Endangered?\n",
    "It seems that mammals may be most likely to be endangered. If an animal is endangered it seems to get a high amount of observations. This may be due to the fact that endangered species are added to a program where they are tagged and closely watched by scientists and rangers in the hopes of saving the species from total extinction.\n",
    "## Which Parks are the Most Biodiverse?\n",
    "While Great Smoky Mountains has the most even spread of species, it seems that Yellowstone Park has the most species out of all of the parks. This may make the park more biodiverse than the other parks. It should also be noted that Yellowstone is larger than the other parks and can hold a larger amount of animals than the other parks.\n",
    "## Does Park Biodiversity Lead to Having More Recovering Species?\n",
    "Despite Great Smoky Mountains having the most equal spread of species, it has the least amount of species in recovery. This may lead one to believe that biodiversity is not a factor in having more species labeled as \"in recovery\". However, Yellowstone, a park that is very biodiverse, has the most species in recovery.   "
   ],
   "attachments":{
    
   },
   "metadata":{
    "datalore":{
     "node_id":"CtMO6B2ZU3dWNN3jey6aHW",
     "type":"MD",
     "hide_input_from_viewers":true,
     "hide_output_from_viewers":true
    }
   }
  },
  {
   "cell_type":"code",
   "source":[
    
   ],
   "execution_count":null,
   "outputs":[
    
   ],
   "metadata":{
    "datalore":{
     "node_id":"lSFtje45TexW8UdanGyDey",
     "type":"CODE",
     "hide_input_from_viewers":true,
     "hide_output_from_viewers":true
    }
   }
  }
 ],
 "metadata":{
  "kernelspec":{
   "display_name":"Python",
   "language":"python",
   "name":"python"
  },
  "datalore":{
   "version":1,
   "computation_mode":"JUPYTER",
   "package_manager":"pip",
   "base_environment":"default",
   "packages":[
    
   ]
  }
 },
 "nbformat":4,
 "nbformat_minor":4
}